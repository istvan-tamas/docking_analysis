{
 "cells": [
  {
   "cell_type": "code",
   "execution_count": 1,
   "id": "71de015f",
   "metadata": {},
   "outputs": [
    {
     "name": "stdout",
     "output_type": "stream",
     "text": [
      "Importing libraries...\n",
      "----------------------\n",
      "Reading CSV files...\n",
      "--------------------\n",
      "Brief of the data\n",
      "-----------------\n",
      "\n",
      "\n",
      "   had_score  had_sd  rmsd  rmsd_sd   vdv  vdv_sd   elec  elec_sd  desolv  \\\n",
      "0      -93.6     4.5   4.0      0.1 -61.3    10.1 -246.1     53.5     2.6   \n",
      "1      -91.2    10.7   3.5      2.7 -33.4    11.6 -360.5     69.8     0.5   \n",
      "2     -109.4    12.1   2.6      1.6 -77.9     6.1 -249.2     46.5    11.4   \n",
      "3      -97.9     4.9   5.7      0.4 -62.6     8.4 -268.3     73.8     3.3   \n",
      "4      -92.0    18.9   5.5      3.2 -41.3     4.0 -306.6    100.0     1.8   \n",
      "\n",
      "   desolv_sd  rest_viol  rest_viol_sd  bur_surf_area  bur_surf_area_sd  \\\n",
      "0        1.3      143.4         41.63         1730.3              45.0   \n",
      "1        7.0      137.6         42.33         1621.5             138.6   \n",
      "2        7.4       69.1         10.69         2297.0             191.9   \n",
      "3        2.2      150.3         36.04         1689.3              47.9   \n",
      "4        3.2       88.5         30.57         1852.6             113.7   \n",
      "\n",
      "   z_score  \n",
      "0     -1.4  \n",
      "1     -1.3  \n",
      "2     -2.0  \n",
      "3     -1.5  \n",
      "4     -1.4  \n"
     ]
    }
   ],
   "source": [
    "print(\"Importing libraries...\")\n",
    "print(\"----------------------\")\n",
    "import pandas as pd\n",
    "\n",
    "print(\"Reading CSV files...\")\n",
    "print(\"--------------------\")\n",
    "\n",
    "data = pd.read_csv(\"./haddock.csv\", delimiter=\";\")\n",
    "\n",
    "print(\"Brief of the data\")\n",
    "print(\"-----------------\")\n",
    "print(\"\\n\")\n",
    "print(data.head())"
   ]
  },
  {
   "cell_type": "code",
   "execution_count": 2,
   "id": "6d992cb3",
   "metadata": {},
   "outputs": [
    {
     "name": "stdout",
     "output_type": "stream",
     "text": [
      "-109.4\n",
      "-165.6\n",
      "-175.6\n",
      "-72.9\n"
     ]
    }
   ],
   "source": [
    "wt_min_had = data[\"had_score\"][0:5].min()\n",
    "pt_min_had = data[\"had_score\"][5:10].min()\n",
    "ps_min_had = data[\"had_score\"][10:15].min()\n",
    "oka_min_had = data[\"had_score\"][15:20].min()\n",
    "\n",
    "print(wt_min_had)\n",
    "print(pt_min_had)\n",
    "print(ps_min_had)\n",
    "print(oka_min_had)\n",
    "\n",
    "wt_min_had = data[\"had_score\"][0:5].min()\n",
    "pt_min_had = data[\"had_score\"][5:10].min()\n",
    "ps_min_had = data[\"had_score\"][10:15].min()\n",
    "oka_min_had = data[\"had_score\"][15:20].min()"
   ]
  },
  {
   "cell_type": "code",
   "execution_count": 3,
   "id": "3d47ecbf",
   "metadata": {},
   "outputs": [
    {
     "name": "stdout",
     "output_type": "stream",
     "text": [
      "                   had_score  had_sd  rmsd  rmsd_sd   vdv  vdv_sd   elec  \\\n",
      "Wild type             -109.4    12.1   2.6      1.6 -77.9     6.1 -249.2   \n",
      "Phospho threonine     -165.6    18.1   3.3      0.3 -26.8    12.4 -793.3   \n",
      "Phospho serine        -175.6    14.2   1.6      1.6  -7.0    13.8 -950.0   \n",
      "Okadaic acid           -72.9    10.9   0.7      0.1 -34.4    11.3 -340.5   \n",
      "\n",
      "                   elec_sd  desolv  desolv_sd  rest_viol  rest_viol_sd  \\\n",
      "Wild type             46.5    11.4        7.4       69.1         10.69   \n",
      "Phospho threonine     79.3     8.3        3.6      114.6         50.32   \n",
      "Phospho serine        99.3    12.0        1.9       93.4         49.44   \n",
      "Okadaic acid          39.6   -14.8        1.4      104.6         21.86   \n",
      "\n",
      "                   bur_surf_area  bur_surf_area_sd  z_score  \n",
      "Wild type                 2297.0             191.9     -2.0  \n",
      "Phospho threonine         1993.9             159.2     -0.6  \n",
      "Phospho serine            1725.6             104.9     -0.5  \n",
      "Okadaic acid              1224.0               6.9     -2.4  \n"
     ]
    }
   ],
   "source": [
    "# Selecting all of the columns according to the lowest haddock score\n",
    "wt_best = data[data[\"had_score\"] == wt_min_had]\n",
    "pt_best = data[data[\"had_score\"] == pt_min_had]\n",
    "ps_best = data[data[\"had_score\"] == ps_min_had]\n",
    "oka_best = data[data[\"had_score\"] == oka_min_had]\n",
    "\n",
    "# combining the best according to HADDOCK score\n",
    "best_df = pd.concat([wt_best, pt_best, ps_best, oka_best], axis=0)\n",
    "best_df.index = [\"Wild type\", \"Phospho threonine\",\"Phospho serine\",\"Okadaic acid\"]\n",
    "print(best_df)"
   ]
  },
  {
   "cell_type": "code",
   "execution_count": 4,
   "id": "48136a50",
   "metadata": {
    "scrolled": true
   },
   "outputs": [
    {
     "data": {
      "image/png": "[encoded data removed]",
      "text/plain": [
       "<Figure size 432x288 with 1 Axes>"
      ]
     },
     "metadata": {
      "needs_background": "light"
     },
     "output_type": "display_data"
    }
   ],
   "source": [
    "import matplotlib.pyplot as plt\n",
    "import numpy as np\n",
    "%matplotlib inline\n",
    "\n",
    "# Comparing the HADDOCK scores\n",
    "best_df.plot(kind=\"barh\", title=\"HADDOCK score\", y=\"had_score\",xerr=\"had_sd\", grid=True, sharex=True, legend=None)\n",
    "plt.savefig(\"haddock.tiff\",transparent=False, dpi=300, bbox_inches=\"tight\")\n",
    "plt.show()"
   ]
  },
  {
   "cell_type": "code",
   "execution_count": 5,
   "id": "f06bb153",
   "metadata": {},
   "outputs": [
    {
     "data": {
      "image/png": "[encoded data removed]",
      "text/plain": [
       "<Figure size 432x288 with 1 Axes>"
      ]
     },
     "metadata": {
      "needs_background": "light"
     },
     "output_type": "display_data"
    }
   ],
   "source": [
    "# Investigating the electrostatic energies\n",
    "best_df.plot(kind=\"barh\", title=\"Electrostatic energy\", y=\"elec\",xerr=\"elec_sd\", grid=True, sharex=True, legend=None)\n",
    "plt.savefig(\"elec.tiff\",transparent=False, dpi=300, bbox_inches=\"tight\")\n",
    "plt.show()"
   ]
  },
  {
   "cell_type": "code",
   "execution_count": 6,
   "id": "c306e23d",
   "metadata": {},
   "outputs": [
    {
     "data": {
      "image/png": "[encoded data removed]",
      "text/plain": [
       "<Figure size 432x288 with 1 Axes>"
      ]
     },
     "metadata": {
      "needs_background": "light"
     },
     "output_type": "display_data"
    }
   ],
   "source": [
    "# RMSD\n",
    "best_df.plot(kind=\"barh\", title=\"RMSD\", y=\"rmsd\",xerr=\"rmsd_sd\", grid=True, sharex=True, legend=None)\n",
    "plt.savefig(\"rmsd.tiff\",transparent=False, dpi=300, bbox_inches=\"tight\")\n",
    "plt.show()"
   ]
  },
  {
   "cell_type": "code",
   "execution_count": 7,
   "id": "d6671656",
   "metadata": {},
   "outputs": [
    {
     "data": {
      "image/png": "[encoded data removed]",
      "text/plain": [
       "<Figure size 432x288 with 1 Axes>"
      ]
     },
     "metadata": {
      "needs_background": "light"
     },
     "output_type": "display_data"
    },
    {
     "data": {
      "text/plain": [
       "<Figure size 576x576 with 0 Axes>"
      ]
     },
     "metadata": {},
     "output_type": "display_data"
    }
   ],
   "source": [
    "best_df.plot(kind=\"barh\", title=\"Van der Waals energy\", y=\"vdv\",xerr=\"vdv_sd\", grid=True, sharex=True, legend=None)\n",
    "plt.figure(figsize=(8, 8))\n",
    "plt.show()"
   ]
  },
  {
   "cell_type": "code",
   "execution_count": 8,
   "id": "cf2857c5",
   "metadata": {},
   "outputs": [
    {
     "data": {
      "image/png": "[encoded data removed]",
      "text/plain": [
       "<Figure size 432x288 with 1 Axes>"
      ]
     },
     "metadata": {
      "needs_background": "light"
     },
     "output_type": "display_data"
    }
   ],
   "source": [
    "# Z score\n",
    "best_df.plot(kind=\"barh\", title=\"Z score\", y=\"z_score\", grid=True, sharex=True, legend=None)\n",
    "plt.savefig(\"z_score.tiff\",transparent=False, dpi=300, bbox_inches=\"tight\")\n",
    "plt.show()"
   ]
  }
 ],
 "metadata": {
  "kernelspec": {
   "display_name": "Python 3 (ipykernel)",
   "language": "python",
   "name": "python3"
  },
  "language_info": {
   "codemirror_mode": {
    "name": "ipython",
    "version": 3
   },
   "file_extension": ".py",
   "mimetype": "text/x-python",
   "name": "python",
   "nbconvert_exporter": "python",
   "pygments_lexer": "ipython3",
   "version": "3.9.7"
  }
 },
 "nbformat": 4,
 "nbformat_minor": 5
}
