{
 "cells": [
  {
   "cell_type": "code",
   "execution_count": 18,
   "id": "71de015f",
   "metadata": {},
   "outputs": [
    {
     "name": "stdout",
     "output_type": "stream",
     "text": [
      "Importing libraries...\n",
      "----------------------\n",
      "Reading CSV files...\n",
      "--------------------\n",
      "Brief of the data\n",
      "-----------------\n",
      "\n",
      "\n",
      "   had_score  had_sd  rmsd  rmsd_sd   vdv  vdv_sd   elec  elec_sd  desolv  \\\n",
      "0      -93.6     4.5   4.0      0.1 -61.3    10.1 -246.1     53.5     2.6   \n",
      "1      -91.2    10.7   3.5      2.7 -33.4    11.6 -360.5     69.8     0.5   \n",
      "2     -109.4    12.1   2.6      1.6 -77.9     6.1 -249.2     46.5    11.4   \n",
      "3      -97.9     4.9   5.7      0.4 -62.6     8.4 -268.3     73.8     3.3   \n",
      "4      -92.0    18.9   5.5      3.2 -41.3     4.0 -306.6    100.0     1.8   \n",
      "\n",
      "   desolv_sd  rest_viol  rest_viol_sd  bur_surf_area  bur_surf_area_sd  \\\n",
      "0        1.3      143.4         41.63         1730.3              45.0   \n",
      "1        7.0      137.6         42.33         1621.5             138.6   \n",
      "2        7.4       69.1         10.69         2297.0             191.9   \n",
      "3        2.2      150.3         36.04         1689.3              47.9   \n",
      "4        3.2       88.5         30.57         1852.6             113.7   \n",
      "\n",
      "   z_score  \n",
      "0     -1.4  \n",
      "1     -1.3  \n",
      "2     -2.0  \n",
      "3     -1.5  \n",
      "4     -1.4  \n"
     ]
    }
   ],
   "source": [
    "print(\"Importing libraries...\")\n",
    "print(\"----------------------\")\n",
    "import pandas as pd\n",
    "\n",
    "print(\"Reading CSV files...\")\n",
    "print(\"--------------------\")\n",
    "\n",
    "data = pd.read_csv(\"./haddock.csv\", delimiter=\";\")\n",
    "\n",
    "print(\"Brief of the data\")\n",
    "print(\"-----------------\")\n",
    "print(\"\\n\")\n",
    "print(data.head())"
   ]
  },
  {
   "cell_type": "code",
   "execution_count": 39,
   "id": "f06bb153",
   "metadata": {},
   "outputs": [
    {
     "data": {
      "image/png": "[encoded data removed]",
      "text/plain": [
       "<Figure size 432x288 with 1 Axes>"
      ]
     },
     "metadata": {
      "needs_background": "light"
     },
     "output_type": "display_data"
    },
    {
     "data": {
      "text/plain": [
       "<Figure size 360x360 with 0 Axes>"
      ]
     },
     "metadata": {},
     "output_type": "display_data"
    }
   ],
   "source": [
    "import matplotlib.pyplot as plt\n",
    "import numpy as np\n",
    "%matplotlib inline\n",
    "\n",
    "data.plot(kind=\"barh\", title=\"HADDOCK score\",y=\"had_score\", xerr=\"had_sd\")\n",
    "plt.figure(figsize=(5, 5))\n",
    "plt.show()"
   ]
  },
  {
   "cell_type": "code",
   "execution_count": 37,
   "id": "c306e23d",
   "metadata": {},
   "outputs": [
    {
     "data": {
      "image/png": "[encoded data removed]",
      "text/plain": [
       "<Figure size 432x288 with 1 Axes>"
      ]
     },
     "metadata": {
      "needs_background": "light"
     },
     "output_type": "display_data"
    },
    {
     "data": {
      "text/plain": [
       "<Figure size 216x216 with 0 Axes>"
      ]
     },
     "metadata": {},
     "output_type": "display_data"
    }
   ],
   "source": [
    "data.plot(kind=\"barh\", title=\"RMSD\",y=\"rmsd\", xerr=\"rmsd_sd\")\n",
    "plt.figure(figsize=(3, 3))\n",
    "plt.show()"
   ]
  },
  {
   "cell_type": "code",
   "execution_count": 36,
   "id": "d6671656",
   "metadata": {},
   "outputs": [
    {
     "data": {
      "image/png": "[encoded data removed]",
      "text/plain": [
       "<Figure size 432x288 with 1 Axes>"
      ]
     },
     "metadata": {
      "needs_background": "light"
     },
     "output_type": "display_data"
    },
    {
     "data": {
      "text/plain": [
       "<Figure size 216x216 with 0 Axes>"
      ]
     },
     "metadata": {},
     "output_type": "display_data"
    }
   ],
   "source": [
    "data.plot(kind=\"barh\", title=\"Van der Waals energy\",y=\"vdv\", xerr=\"vdv_sd\")\n",
    "plt.figure(figsize=(3, 3))\n",
    "plt.show()"
   ]
  }
 ],
 "metadata": {
  "kernelspec": {
   "display_name": "Python 3 (ipykernel)",
   "language": "python",
   "name": "python3"
  },
  "language_info": {
   "codemirror_mode": {
    "name": "ipython",
    "version": 3
   },
   "file_extension": ".py",
   "mimetype": "text/x-python",
   "name": "python",
   "nbconvert_exporter": "python",
   "pygments_lexer": "ipython3",
   "version": "3.9.7"
  }
 },
 "nbformat": 4,
 "nbformat_minor": 5
}
